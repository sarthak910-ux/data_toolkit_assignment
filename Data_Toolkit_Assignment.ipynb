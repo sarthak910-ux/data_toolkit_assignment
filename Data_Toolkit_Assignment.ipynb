{
  "nbformat": 4,
  "nbformat_minor": 0,
  "metadata": {
    "colab": {
      "provenance": []
    },
    "kernelspec": {
      "name": "python3",
      "display_name": "Python 3"
    },
    "language_info": {
      "name": "python"
    }
  },
  "cells": [
    {
      "cell_type": "code",
      "source": [
        "#1.  How do you create a 2D NumPy array and calculate the sum of each row)\n",
        "\n",
        "import numpy as np\n",
        "\n",
        "# Create a 2D NumPy array\n",
        "my_array = np.array([[1, 2, 3], [4, 5, 6], [7, 8, 9]])\n",
        "\n",
        "# Calculate the sum of each row\n",
        "row_sums = np.sum(my_array, axis=1)\n",
        "\n",
        "print(row_sums)"
      ],
      "metadata": {
        "id": "8ZeGOEQdKLMM"
      },
      "execution_count": null,
      "outputs": []
    },
    {
      "cell_type": "code",
      "source": [
        "#2. Write a Pandas script to find the mean of a specific column in a DataFrame.\n",
        "\n",
        "import pandas as pd\n",
        "\n",
        "# Sample DataFrame\n",
        "data = {'col1': [1, 2, 3, 4, 5],\n",
        "        'col2': [6, 7, 8, 9, 10]}\n",
        "df = pd.DataFrame(data)\n",
        "\n",
        "# Specify the column name\n",
        "column_name = 'col2'\n",
        "\n",
        "# Calculate the mean of the specified column\n",
        "mean_value = df[column_name].mean()\n",
        "\n",
        "print(f\"Mean of {column_name}: {mean_value}\")"
      ],
      "metadata": {
        "id": "5aEXpVciKk3j"
      },
      "execution_count": null,
      "outputs": []
    },
    {
      "cell_type": "code",
      "source": [
        "#3. Create a scatter plot using Matplotlib.\n",
        "\n",
        "import matplotlib.pyplot as plt\n",
        "import numpy as np\n",
        "\n",
        "# Sample data\n",
        "x = np.random.rand(50)  # 50 random x-values\n",
        "y = np.random.rand(50)  # 50 random y-values\n",
        "\n",
        "# Create the scatter plot\n",
        "plt.scatter(x, y, color='blue', marker='o', label='Data Points')\n",
        "\n",
        "# Customize the plot\n",
        "plt.title('Scatter Plot Example')\n",
        "plt.xlabel('X-axis')\n",
        "plt.ylabel('Y-axis')\n",
        "plt.legend()  # Show the legend\n",
        "\n",
        "# Display the plot\n",
        "plt.show()"
      ],
      "metadata": {
        "id": "ke_hwu8UKzfp"
      },
      "execution_count": null,
      "outputs": []
    },
    {
      "cell_type": "code",
      "source": [
        "#4. How do you calculate the correlation matrix using Seaborn and visualize it with a heatmap?\n",
        "\n",
        "import seaborn as sns\n",
        "import matplotlib.pyplot as plt\n",
        "import pandas as pd\n",
        "\n",
        "data = {'A': [1, 2, 3, 4, 5],\n",
        "        'B': [2, 4, 6, 8, 10],\n",
        "        'C': [1, 3, 5, 7, 9]}\n",
        "df = pd.DataFrame(data)\n",
        "\n",
        "correlation_matrix = df.corr()\n",
        "\n",
        "plt.figure(figsize=(8, 6))\n",
        "sns.heatmap(correlation_matrix, annot=True, cmap='coolwarm', fmt=\".2f\")\n",
        "plt.title('Correlation Matrix Heatmap')\n",
        "plt.show()"
      ],
      "metadata": {
        "id": "itNsiTfeLBiI"
      },
      "execution_count": null,
      "outputs": []
    },
    {
      "cell_type": "code",
      "source": [
        "#5. Generate a bar plot using Plotly.\n",
        "\n",
        "import plotly.express as px\n",
        "\n",
        "# Sample data\n",
        "data = {'Category': ['A', 'B', 'C', 'D'],\n",
        "        'Value': [10, 15, 7, 12]}\n",
        "\n",
        "# Create the bar plot\n",
        "fig = px.bar(data, x='Category', y='Value',\n",
        "             title='Bar Plot Example',\n",
        "             labels={'Value': 'Value Label', 'Category': 'Category Label'})\n",
        "\n",
        "# Display the plot\n",
        "fig.show()"
      ],
      "metadata": {
        "id": "Hg7qBZ64LPh5"
      },
      "execution_count": null,
      "outputs": []
    },
    {
      "cell_type": "code",
      "source": [
        "#6.  Create a DataFrame and add a new column based on an existing column.\n",
        "\n",
        "import pandas as pd\n",
        "\n",
        "# Create a sample DataFrame\n",
        "data = {'Name': ['Alice', 'Bob', 'Charlie', 'David'],\n",
        "        'Age': [25, 30, 22, 28]}\n",
        "df = pd.DataFrame(data)\n",
        "\n",
        "# Add a new column 'AgeGroup' based on 'Age'\n",
        "df['AgeGroup'] = pd.cut(df['Age'], bins=[0, 25, 30, 100],\n",
        "                       labels=['Young', 'Adult', 'Senior'])\n",
        "\n",
        "print(df)"
      ],
      "metadata": {
        "id": "W6sfN0yzLaxp"
      },
      "execution_count": null,
      "outputs": []
    },
    {
      "cell_type": "code",
      "source": [
        "#7. Write a program to perform element-wise multiplication of two NumPy arrays.\n",
        "\n",
        "import numpy as np\n",
        "\n",
        "# Create two NumPy arrays\n",
        "array1 = np.array([1, 2, 3, 4, 5])\n",
        "array2 = np.array([6, 7, 8, 9, 10])\n",
        "\n",
        "# Perform element-wise multiplication\n",
        "result = array1 * array2\n",
        "\n",
        "# Print the result\n",
        "print(result)"
      ],
      "metadata": {
        "id": "LAQPGfnyLrnD"
      },
      "execution_count": null,
      "outputs": []
    },
    {
      "cell_type": "code",
      "source": [
        "#8. Create a line plot with multiple lines using Matplotlib.\n",
        "\n",
        "import matplotlib.pyplot as plt\n",
        "import numpy as np\n",
        "\n",
        "# Sample data\n",
        "x = np.arange(0, 10, 0.1)  # Values for the x-axis\n",
        "y1 = np.sin(x)  # Values for the first line\n",
        "y2 = np.cos(x)  # Values for the second line\n",
        "\n",
        "# Create the line plot\n",
        "plt.plot(x, y1, label='sin(x)')\n",
        "plt.plot(x, y2, label='cos(x)')\n",
        "\n",
        "# Customize the plot\n",
        "plt.title('Multiple Lines Plot')\n",
        "plt.xlabel('X-axis')\n",
        "plt.ylabel('Y-axis')\n",
        "plt.legend()  # Show the legend\n",
        "\n",
        "# Display the plot\n",
        "plt.show()"
      ],
      "metadata": {
        "id": "qHk0NsdlL3O7"
      },
      "execution_count": null,
      "outputs": []
    },
    {
      "cell_type": "code",
      "source": [
        "#9. A Generate a Pandas DataFrame and filter rows where a column value is greater than a threshold.\n",
        "\n",
        "import pandas as pd\n",
        "\n",
        "# Create a sample DataFrame\n",
        "data = {'col1': [1, 2, 3, 4, 5],\n",
        "        'col2': [6, 7, 8, 9, 10]}\n",
        "df = pd.DataFrame(data)\n",
        "\n",
        "# Set the threshold value\n",
        "threshold = 7\n",
        "\n",
        "# Filter rows where 'col2' is greater than the threshold\n",
        "filtered_df = df[df['col2'] > threshold]\n",
        "\n",
        "# Display the filtered DataFrame\n",
        "print(filtered_df)"
      ],
      "metadata": {
        "id": "c8w1lVJWMDFK"
      },
      "execution_count": null,
      "outputs": []
    },
    {
      "cell_type": "code",
      "source": [
        "#10. Create a histogram using Seaborn to visualize a distribution.\n",
        "\n",
        "import seaborn as sns\n",
        "import matplotlib.pyplot as plt\n",
        "import numpy as np  # For generating sample data (optional)\n",
        "\n",
        "# Sample data (replace with your actual data)\n",
        "data = np.random.randn(1000)\n",
        "\n",
        "# Create the histogram\n",
        "sns.histplot(data, bins=30)  # Adjust 'bins' for desired bin width\n",
        "\n",
        "# Customize the plot (optional)\n",
        "plt.title('Histogram of Data')\n",
        "plt.xlabel('Value')\n",
        "plt.ylabel('Frequency')\n",
        "\n",
        "# Display the plot\n",
        "plt.show()"
      ],
      "metadata": {
        "id": "mgIuPPZyMUwj"
      },
      "execution_count": null,
      "outputs": []
    },
    {
      "cell_type": "code",
      "source": [
        "#11. Perform matrix multiplication using NumPyA.\n",
        "\n",
        "import numpy as np\n",
        "\n",
        "# Create two matrices\n",
        "matrix1 = np.array([[1, 2], [3, 4]])\n",
        "matrix2 = np.array([[5, 6], [7, 8]])\n",
        "\n",
        "# Perform matrix multiplication\n",
        "result = np.matmul(matrix1, matrix2)\n",
        "\n",
        "# Print the result\n",
        "print(result)"
      ],
      "metadata": {
        "id": "MtkxqWhYMhmw"
      },
      "execution_count": null,
      "outputs": []
    },
    {
      "cell_type": "code",
      "source": [
        "#12. Use Pandas to load a CSV file and display its first 5 rows.\n",
        "\n",
        "import pandas as pd\n",
        "\n",
        "# Replace 'your_file.csv' with the actual path to your CSV file\n",
        "df = pd.read_csv('your_file.csv')\n",
        "\n",
        "# Display the first 5 rows\n",
        "print(df.head())"
      ],
      "metadata": {
        "id": "eySlfxTiMw_X"
      },
      "execution_count": null,
      "outputs": []
    },
    {
      "cell_type": "code",
      "source": [
        "#13. Create a 3D scatter plot using Plotly.\n",
        "\n",
        "import plotly.express as px\n",
        "import pandas as pd\n",
        "\n",
        "# Sample data\n",
        "df = pd.DataFrame({'x': [1, 2, 3, 4, 5],\n",
        "                   'y': [2, 4, 6, 8, 10],\n",
        "                   'z': [3, 6, 9, 12, 15]})\n",
        "\n",
        "# Create the 3D scatter plot\n",
        "fig = px.scatter_3d(df, x='x', y='y', z='z',\n",
        "                    title='3D Scatter Plot Example')\n",
        "\n",
        "# Display the plot\n",
        "fig.show()"
      ],
      "metadata": {
        "id": "TtrXc9N4Mw8F"
      },
      "execution_count": null,
      "outputs": []
    },
    {
      "cell_type": "markdown",
      "source": [
        "# **Theoritical Answers**"
      ],
      "metadata": {
        "id": "iW0_PG09NMrb"
      }
    },
    {
      "cell_type": "markdown",
      "source": [
        "1. **NumPy** is a Python library that provides powerful tools for working with numerical data, especially large arrays and matrices.\n",
        "\n",
        "  It is widely because\n",
        "\n",
        "  **Efficiency:** NumPy's arrays are highly optimized for speed, making calculations much faster than with standard Python lists.\n",
        "\n",
        "  **Functionality**: It offers a vast collection of mathematical functions for operations like linear algebra, statistics, and more.\n",
        "\n",
        "  **Foundation**: NumPy serves as the base for many other scientific computing libraries in Python, like Pandas and Scikit-learn."
      ],
      "metadata": {
        "id": "bvGYAZrjNSWp"
      }
    },
    {
      "cell_type": "markdown",
      "source": [
        "2. Broadcasting in NumPy allows operations on arrays of different shapes without explicit replication. It automatically expands smaller arrays to match the shape of larger ones, enabling efficient element-wise operations.\n",
        "\n",
        "\n",
        "\n",
        "```\n",
        "\n",
        "  import numpy as np\n",
        "  A = np.array([[1, 2, 3], [4, 5, 6]])  # Shape (2,3)\n",
        "  B = np.array([1, 2, 3])  # Shape (1,3)\n",
        "  C = A + B  # B is broadcasted to (2,3)\n",
        "  print(C)\n",
        "```\n",
        "\n"
      ],
      "metadata": {
        "id": "SfJRXbL8OEDS"
      }
    },
    {
      "cell_type": "markdown",
      "source": [
        "3. A Pandas DataFrame is a 2-dimensional labeled data structure, like a table with rows and columns. It's incredibly versatile for data manipulation and analysis in Python. You can think of it as a spreadsheet or SQL table within Python."
      ],
      "metadata": {
        "id": "0oxhh5khOet9"
      }
    },
    {
      "cell_type": "markdown",
      "source": [
        "4. The `groupby()` method in Pandas is used to group rows of a DataFrame based on the values in one or more columns. This allows you to perform aggregate operations (like sum, mean, count) on these groups.\n",
        "\n",
        "  import pandas as pd\n",
        "\n",
        "  data = {'Category': ['A', 'B', 'A', 'B', 'A'],\n",
        "        'Sales': [100, 200, 150, 250, 300]}\n",
        "\n",
        "  df = pd.DataFrame(data)\n",
        "\n",
        "  grouped = df.groupby('Category')['Sales'].sum()\n",
        "  print(grouped)\n",
        "\n",
        "  #output\n",
        "\n",
        "  Category\n",
        "\n",
        "  A    550\n",
        "\n",
        "  B    450\n",
        "\n",
        "  Name: Sales, dtype: int64\n",
        "\n",
        "  Uses:\n",
        "  \n",
        "  Aggregating data (sum, mean, count, etc.)\n",
        "\n",
        "  Filtering and transforming groups\n",
        "\n",
        "  Handling large datasets efficiently\n",
        "\n"
      ],
      "metadata": {
        "id": "Kg7ULpxOOzHZ"
      }
    },
    {
      "cell_type": "markdown",
      "source": [
        "5. Seaborn is preferred for statistical visualizations because it provides beautiful, informative, and easy-to-use plots with minimal code. It is built on top of Matplotlib and integrates well with Pandas, making it ideal for analyzing complex datasets.\n",
        "\n",
        "  **Key Reasons:**\n",
        "\n",
        " **Better Aesthetics:** Pre-styled themes for visually appealing plots.\n",
        "\n",
        "  **Simplifies Statistical Plots**: Built-in functions for heatmaps, violin plots, pair plots, etc.\n",
        "\n",
        "  **Automatic Aggregation**: Handles categorical data effectively.\n",
        "\n",
        "  **Integration with Pandas**: Works directly with DataFrames."
      ],
      "metadata": {
        "id": "-8tb_0JCPtgq"
      }
    },
    {
      "cell_type": "markdown",
      "source": [
        "6. **NumPy** arrays are faster, memory-efficient, support vectorized operations, enforce consistent data types, and handle multi-dimensional data, whereas **Python lists** are slower, use more memory, allow mixed data types, and require loops for operations."
      ],
      "metadata": {
        "id": "YRFo2xXuQNxx"
      }
    },
    {
      "cell_type": "markdown",
      "source": [
        "7. A heatmap is a data visualization technique that uses color to represent values in a matrix or table. It helps identify patterns, correlations, and outliers in large datasets quickly.\n",
        "\n",
        "  **Use**\n",
        "\n",
        "  **Correlation Analysis**: Visualizing relationships between variables.\n",
        "\n",
        "  **Large Data Summarization**: Representing complex numerical data intuitively.\n",
        "\n",
        "  **Anomaly Detection**: Spotting trends, clusters, or unusual values."
      ],
      "metadata": {
        "id": "IL4Tqms2Qu2r"
      }
    },
    {
      "cell_type": "markdown",
      "source": [
        "8. Vectorized operation means performing an operation on entire arrays (or large chunks of data) at once, rather than looping through individual elements.\n",
        "\n",
        "  Benefit: This significantly speeds up computations, as NumPy uses optimized, low-level code to execute these operations efficiently.\n",
        "\n",
        "  In essence: Vectorization allows for faster and more concise code when working with numerical data in NumPy."
      ],
      "metadata": {
        "id": "1qQTLlxfRSwx"
      }
    },
    {
      "cell_type": "markdown",
      "source": [
        "9. **Matplotlib** is for static, highly customizable plots, while **Plotly** is for interactive, web-based visualizations.\n"
      ],
      "metadata": {
        "id": "dN5avvr_Rj_b"
      }
    },
    {
      "cell_type": "markdown",
      "source": [
        "10. Hierarchical indexing (also called MultiIndex) allows you to have multiple levels of index labels on an axis (rows or columns) in a Pandas DataFrame or Series.\n",
        "\n",
        "  **Significance**:\n",
        "\n",
        "  Organize and represent multi-dimensional data withina 2D DataFrame structure.\n",
        "\n",
        "  Enable intuitive data selection and manipulation based on multiple criteria.\n",
        "\n",
        "  Improve data analysis and aggregation capabilities for complex datasets.\n",
        "\n"
      ],
      "metadata": {
        "id": "KJu3UjIAR1Wm"
      }
    },
    {
      "cell_type": "markdown",
      "source": [
        "11. The `pairplot()` function creates a grid of scatter plots to visualize pairwise relationships between variables in a dataset. It's useful for quickly exploring correlations and patterns in your data."
      ],
      "metadata": {
        "id": "NZZK9ilWSWZf"
      }
    },
    {
      "cell_type": "markdown",
      "source": [
        "12. The `describe()` function generates descriptive statistics that summarize the central tendency, dispersion, and shape of a dataset's distribution, excluding NaN values.\n",
        "\n",
        "  It provides a quick overview of the main statistical properties of our data."
      ],
      "metadata": {
        "id": "fLubBd2FSjmB"
      }
    },
    {
      "cell_type": "markdown",
      "source": [
        "13. Missing data can lead to inaccurate analysis and unexpected errors in your data operations. Handling missing data properly ensures data integrity and reliable results.  It's crucial for accurate and reliable data analysis in Pandas.\n",
        "\n"
      ],
      "metadata": {
        "id": "-BbBS9ziS2sz"
      }
    },
    {
      "cell_type": "markdown",
      "source": [
        "14. Benefits of Using Plotly for Data Visualization\n",
        "\n",
        "  **Interactive Plots**: Supports zooming, hovering, and dynamic updates.\n",
        "\n",
        "  **High-Quality Visuals**: Produces publication-ready, aesthetically pleasing charts.\n",
        "\n",
        "  **Wide Range of Charts**: Supports scatter, line, bar, 3D, heatmaps, and more.\n",
        "\n",
        "  **Easy Integration**: Works with Pandas, NumPy, Dash, and Jupyter Notebooks.\n",
        "\n",
        "  **Web-Based Sharing**: Generates interactive HTML-based visualizations.\n",
        "\n",
        "  **Plotly** is best for  Interactive dashboards, web-based analytics, and data storytelling."
      ],
      "metadata": {
        "id": "lqCap02xTIJj"
      }
    },
    {
      "cell_type": "markdown",
      "source": [
        "15. NumPy handles multidimensional arrays using the ndarray object, which supports efficient storage and operations on n-dimensional data. It allows easy indexing, slicing, reshaping, and broadcasting.\n",
        "\n",
        "  **Key Features**:\n",
        "\n",
        "  **Efficient Storage**: Stores elements in a contiguous memory block.\n",
        "\n",
        "  **Flexible Shape**: Supports 1D, 2D, and higher-dimensional arrays.\n",
        "\n",
        "  **Fast Operations**: Element-wise and matrix operations are optimized.\n",
        "  \n",
        "  **Easy Manipulation**: Methods like .reshape(), .transpose(), and .flatten().\n",
        "\n",
        "  NumPy is best for Scientific computing, machine learning, and big data analysis."
      ],
      "metadata": {
        "id": "DS9cs9ydTyWn"
      }
    },
    {
      "cell_type": "markdown",
      "source": [
        "16. Bokeh is a Python library for creating interactive, web-ready visualizations. It focuses on generating versatile, high-performance graphics that can be easily embedded in web applications.\n",
        "\n",
        " **Key Features**:\n",
        "\n",
        "  **Interactive Plots**: Zooming, panning, tooltips, and real-time updates.\n",
        "\n",
        "  **Web Integration**: Generates JavaScript & HTML-based plots.\n",
        "\n",
        "  **Scalability**: Handles large datasets efficiently.\n",
        "  \n",
        "  **Versatile Charts**: Supports bar, scatter, line heatmaps, and dashboards.\n",
        "\n",
        "  Bokeh is best for Interactive dashboards, web apps, and real-time analytics."
      ],
      "metadata": {
        "id": "3ntVugqSUacE"
      }
    },
    {
      "cell_type": "markdown",
      "source": [
        "17. Difference between `apply()` and `map()` in Pandas\n",
        "\n",
        "  `map()` is used for element-wise transformations in a Pandas Series. It applies a function, dictionary, or mapping to each individual value.\n",
        "  \n",
        "  `apply()` is more flexible and works on both Series and DataFrames. It can apply functions to entire rows or columns, making it useful for more complex operations."
      ],
      "metadata": {
        "id": "nDIi0XMsVE5p"
      }
    },
    {
      "cell_type": "markdown",
      "source": [
        "18. Advanced Features of NumPy\n",
        "\n",
        "  **Broadcasting**: Perform operations on arrays of different shapes without loops.\n",
        "  \n",
        "  **Vectorization**: Fast element-wise operations without explicit iteration.\n",
        "  \n",
        "  **Memory Efficiency**: Uses contiguous storage for faster computation.\n",
        "\n",
        "  **Masked Arrays**: Handle missing or invalid data easily.\n",
        "\n",
        "  **Linear Algebra**: Supports matrix operations, eigenvalues, and SVD (numpy.linalg).\n",
        "\n",
        "  **Fourier Transforms**: Perform fast Fourier analysis with numpy.fft.\n",
        "\n",
        "  **Random Number Generation**: Advanced random sampling with numpy.random.\n",
        "  \n",
        "  **Parallel Computing**: Uses multi-threading for performance optimization."
      ],
      "metadata": {
        "id": "b19hwZ2NVqvT"
      }
    },
    {
      "cell_type": "markdown",
      "source": [
        "19. How Pandas Simplifies Time Series Analysis\n",
        "\n",
        "  **Datetime Handling**: Provides DatetimeIndex for easy date-based indexing and slicing.\n",
        "\n",
        "  **Resampling**: Aggregates data to different time frequencies (e.g., daily to monthly).\n",
        "\n",
        "  **Shifting & Lagging**: Supports .shift() to analyze time-based trends.\n",
        "\n",
        "  **Rolling Window Operations**: Enables moving averages and trend analysis using .rolling().\n",
        "\n",
        "  **Date Parsing**: Automatically converts date strings into datetime objects.\n",
        "\n",
        "  **Time Zone Support**: Easily converts between different time zones."
      ],
      "metadata": {
        "id": "BuC1-MtfWWbX"
      }
    },
    {
      "cell_type": "markdown",
      "source": [
        "20. A pivot table in Pandas is used to summarize, aggregate, and restructure data in a DataFrame for better analysis. It helps in organizing large datasets efficiently.\n",
        "\n",
        "  **Key Features:**\n",
        "\n",
        "  **Aggregates Data**: Computes sum, mean, count, etc.\n",
        "\n",
        "  **Reshapes Data**: Converts long-format data into a structured summary.\n",
        "  \n",
        "  **Handles Missing Values**: Fills or ignores NaN values."
      ],
      "metadata": {
        "id": "ZCO-j72iXCBE"
      }
    },
    {
      "cell_type": "markdown",
      "source": [
        "21. Because:\n",
        "\n",
        "   Views, Not Copies: NumPy slicing creates a view (reference to the original data) instead of making a new copy, unlike Python lists.\n",
        "\n",
        "  Memory Efficiency: NumPy stores elements in contiguous memory blocks, reducing access time.\n",
        "  \n",
        "  Optimized C Implementation: NumPy operations run on low-level C code, making them significantly faster.\n",
        "\n",
        "  Vectorized Operations: Works efficiently on large datasets without Python loops."
      ],
      "metadata": {
        "id": "cRxq4N8lXigr"
      }
    },
    {
      "cell_type": "markdown",
      "source": [
        "22. Common Use Cases for **Seaborn**:\n",
        "\n",
        "  **Statistical Data Visualization**: Easily create histograms, box plots, and KDE plots.\n",
        "  \n",
        "  **Correlation Analysis**: Use heatmaps to visualize relationships between variables.\n",
        "\n",
        "  **Categorical Data Visualization**: Bar plots, violin plots, and swarm plots for category comparisons.\n",
        "\n",
        "  **Pairwise Relationships**: pairplot() for exploring relationships between multiple features.\n",
        "\n",
        "  **Regression Analysis**: regplot() and lmplot() for trend and predictive analysis.\n",
        "\n",
        "  **Time Series Analysis**: Line plots to track trends over time."
      ],
      "metadata": {
        "id": "vHGoinwcX31w"
      }
    }
  ]
}